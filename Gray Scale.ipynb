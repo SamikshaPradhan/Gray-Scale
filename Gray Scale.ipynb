{
 "cells": [
  {
   "cell_type": "code",
   "execution_count": null,
   "metadata": {},
   "outputs": [],
   "source": [
    "from cImage import *\n",
    "\n",
    "def grayPixel(oldPixel):\n",
    "    intensitySum = oldPixel.getRed() + oldPixel.getGreen() \\\n",
    "\t\t            + oldPixel.getBlue()\n",
    "    aveRGB = intensitySum // 3\n",
    "    newPixel = Pixel(aveRGB, aveRGB, aveRGB)\n",
    "    return newPixel\n",
    "    \n",
    "def makeGrayScale(imageFile):    \n",
    "    oldImage = FileImage(imageFile)\n",
    "    width = oldImage.getWidth()\n",
    "    height = oldImage.getHeight()\n",
    "\n",
    "    myImageWindow = ImageWin(\"Grayscale\", width * 2, height)\n",
    "    oldImage.draw(myImageWindow)  \n",
    "    newIm = EmptyImage(width, height)\n",
    "\n",
    "    for row in range(height):\n",
    "        for col in range(width):\n",
    "            oldPixel = oldImage.getPixel(col, row)\n",
    "            newPixel = grayPixel(oldPixel)\n",
    "            newIm.setPixel(col, row, newPixel)\n",
    "\n",
    "    newIm.setPosition(width + 1,0)\n",
    "    newIm.draw(myImageWindow)\n",
    "    myImageWindow.exitOnClick()\n",
    "    \n",
    "makeGrayScale(\"butterfly.png\")"
   ]
  },
  {
   "cell_type": "code",
   "execution_count": null,
   "metadata": {},
   "outputs": [],
   "source": []
  }
 ],
 "metadata": {
  "kernelspec": {
   "display_name": "Python 3",
   "language": "python",
   "name": "python3"
  },
  "language_info": {
   "codemirror_mode": {
    "name": "ipython",
    "version": 3
   },
   "file_extension": ".py",
   "mimetype": "text/x-python",
   "name": "python",
   "nbconvert_exporter": "python",
   "pygments_lexer": "ipython3",
   "version": "3.7.4"
  }
 },
 "nbformat": 4,
 "nbformat_minor": 2
}
